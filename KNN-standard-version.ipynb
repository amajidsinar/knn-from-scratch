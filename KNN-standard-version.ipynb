{
 "cells": [
  {
   "cell_type": "code",
   "execution_count": 1,
   "metadata": {},
   "outputs": [
    {
     "name": "stderr",
     "output_type": "stream",
     "text": [
      "C:\\Users\\Gilang PC\\Anaconda3\\lib\\site-packages\\sklearn\\cross_validation.py:41: DeprecationWarning: This module was deprecated in version 0.18 in favor of the model_selection module into which all the refactored classes and functions are moved. Also note that the interface of the new CV iterators are different from that of this module. This module will be removed in 0.20.\n",
      "  \"This module will be removed in 0.20.\", DeprecationWarning)\n"
     ]
    }
   ],
   "source": [
    "\"\"\"\n",
    "    KNN from scratch\n",
    "    \n",
    "\"\"\"\n",
    "\n",
    "from sklearn import datasets\n",
    "from sklearn.cross_validation import train_test_split\n",
    "# from sklearn.model_selection import train_test_split"
   ]
  },
  {
   "cell_type": "code",
   "execution_count": 2,
   "metadata": {},
   "outputs": [],
   "source": [
    "data = datasets.load_iris()"
   ]
  },
  {
   "cell_type": "code",
   "execution_count": 3,
   "metadata": {},
   "outputs": [],
   "source": [
    "X = data.data\n",
    "y = data.target"
   ]
  },
  {
   "cell_type": "code",
   "execution_count": 4,
   "metadata": {},
   "outputs": [],
   "source": [
    "X_train, X_test, y_train, y_test = train_test_split(X, y, test_size=0.2, random_state=123)"
   ]
  },
  {
   "cell_type": "code",
   "execution_count": 5,
   "metadata": {},
   "outputs": [],
   "source": [
    "# Input : list\n",
    "def euclideanDistance(l1, l2):\n",
    "    if (len(l1) == len(l2)):\n",
    "        dist = 0\n",
    "        for i in range(len(l1)):\n",
    "            dist += (l1[i] - l2[i])**2\n",
    "        return dist**0.5\n",
    "    else:\n",
    "        raise ValueError('Hehe, panjangnya beda gan')"
   ]
  },
  {
   "cell_type": "code",
   "execution_count": 6,
   "metadata": {},
   "outputs": [
    {
     "ename": "NameError",
     "evalue": "name 'k_nearest_neigbors_target' is not defined",
     "output_type": "error",
     "traceback": [
      "\u001b[1;31m---------------------------------------------------------------------------\u001b[0m",
      "\u001b[1;31mNameError\u001b[0m                                 Traceback (most recent call last)",
      "\u001b[1;32m<ipython-input-6-8aa891b0e06b>\u001b[0m in \u001b[0;36m<module>\u001b[1;34m()\u001b[0m\n\u001b[0;32m     14\u001b[0m \u001b[1;33m\u001b[0m\u001b[0m\n\u001b[0;32m     15\u001b[0m     \u001b[1;31m# mode of knn : classification\u001b[0m\u001b[1;33m\u001b[0m\u001b[1;33m\u001b[0m\u001b[0m\n\u001b[1;32m---> 16\u001b[1;33m     \u001b[0my_test_predict\u001b[0m\u001b[1;33m.\u001b[0m\u001b[0mappend\u001b[0m\u001b[1;33m(\u001b[0m\u001b[0mmax\u001b[0m\u001b[1;33m(\u001b[0m\u001b[0mset\u001b[0m\u001b[1;33m(\u001b[0m\u001b[0mk_nearest_neigbors_target\u001b[0m\u001b[1;33m)\u001b[0m\u001b[1;33m,\u001b[0m \u001b[0mkey\u001b[0m\u001b[1;33m=\u001b[0m\u001b[0mk_nearest_neigbors_target\u001b[0m\u001b[1;33m.\u001b[0m\u001b[0mcount\u001b[0m\u001b[1;33m)\u001b[0m\u001b[1;33m)\u001b[0m\u001b[1;33m\u001b[0m\u001b[0m\n\u001b[0m\u001b[0;32m     17\u001b[0m \u001b[1;33m\u001b[0m\u001b[0m\n\u001b[0;32m     18\u001b[0m \u001b[0mprint\u001b[0m \u001b[1;33m(\u001b[0m\u001b[0my_test_predict\u001b[0m\u001b[1;33m)\u001b[0m\u001b[1;33m\u001b[0m\u001b[0m\n",
      "\u001b[1;31mNameError\u001b[0m: name 'k_nearest_neigbors_target' is not defined"
     ]
    }
   ],
   "source": [
    "# Calculate Neighbors Distance\n",
    "k = 5               # number ok k\n",
    "y_test_predict = [] # target yang diprediksi\n",
    "\n",
    "for x_unknown in X_test:\n",
    "    neighbors_distance = []\n",
    "    \n",
    "    for x_known in X_train:\n",
    "        neighbors_distance.append(euclideanDistance(x_unknown, x_known))\n",
    "        \n",
    "    neighbors_distance_sorted_with_target = sorted(zip(neighbors_distance, y_train))\n",
    "    \n",
    "    k_nearest_neighbors_target = [items[1] for items in neighbors_distance_sorted_with_target[:k]]\n",
    "\n",
    "    # mode of knn : classification\n",
    "    y_test_predict.append(max(set(k_nearest_neigbors_target), key=k_nearest_neigbors_target.count))\n",
    "\n",
    "print (y_test_predict)"
   ]
  },
  {
   "cell_type": "code",
   "execution_count": null,
   "metadata": {},
   "outputs": [],
   "source": [
    "n_benar = 0\n",
    "for i, prediksi in enumerate(y_test_predict):\n",
    "    if (prediksi == y_test[i]):\n",
    "        n_benar += 1\n",
    "print(n_benar/len(y_test))"
   ]
  },
  {
   "cell_type": "code",
   "execution_count": null,
   "metadata": {},
   "outputs": [],
   "source": [
    "from sklearn.neighbors import KNeighborsClassifier\n",
    "knn = KNeighborsClassifier()\n",
    "knn.fit(X_train, y_train)\n",
    "knn.score(X_test,y_test)"
   ]
  },
  {
   "cell_type": "code",
   "execution_count": null,
   "metadata": {},
   "outputs": [],
   "source": [
    "data = datasets.load_boston()\n",
    "X = data.data\n",
    "y = data.target\n",
    "X_train, X_test, y_train, y_test = train_test_split(X, y, test_size=0.2, random_state=123)"
   ]
  },
  {
   "cell_type": "code",
   "execution_count": null,
   "metadata": {},
   "outputs": [],
   "source": [
    "from sklearn.metrics import mean_squared_error\n",
    "\n",
    "# Calculate Neighbors Distance\n",
    "k = 5               # number ok k\n",
    "y_test_predict = [] # target yang diprediksi\n",
    "\n",
    "for x_unknown in X_test:\n",
    "    neighbors_distance = []\n",
    "    \n",
    "    for x_known in X_train:\n",
    "        neighbors_distance.append(euclideanDistance(x_unknown, x_known))\n",
    "        \n",
    "    neighbors_distance_sorted_with_target = sorted(zip(neighbors_distance, y_train))\n",
    "    \n",
    "    k_nearest_neighbors_target = [items[1] for items in neighbors_distance_sorted_with_target[:k]]\n",
    "\n",
    "    # bedanyan hanya di sini\n",
    "    # mean of knn : regression\n",
    "    y_test_predict.append(round(sum(k_nearest_neighbors_target)/k, 2))\n",
    "\n",
    "# print (y_test_predict)\n",
    "print (mean_squared_error(y_test_predict, y_test))"
   ]
  },
  {
   "cell_type": "code",
   "execution_count": null,
   "metadata": {},
   "outputs": [],
   "source": [
    "from sklearn.neighbors import KNeighborsRegressor"
   ]
  },
  {
   "cell_type": "code",
   "execution_count": null,
   "metadata": {},
   "outputs": [],
   "source": [
    "knn_reg = KNeighborsRegressor()\n",
    "knn_reg.fit(X_train, y_train)\n",
    "y_predict = knn_reg.predict(X_test)\n",
    "mean_squared_error(y_predict, y_test)"
   ]
  },
  {
   "cell_type": "code",
   "execution_count": null,
   "metadata": {},
   "outputs": [],
   "source": []
  }
 ],
 "metadata": {
  "anaconda-cloud": {},
  "kernelspec": {
   "display_name": "Python 3",
   "language": "python",
   "name": "python3"
  },
  "language_info": {
   "codemirror_mode": {
    "name": "ipython",
    "version": 3
   },
   "file_extension": ".py",
   "mimetype": "text/x-python",
   "name": "python",
   "nbconvert_exporter": "python",
   "pygments_lexer": "ipython3",
   "version": "3.6.3"
  }
 },
 "nbformat": 4,
 "nbformat_minor": 1
}
